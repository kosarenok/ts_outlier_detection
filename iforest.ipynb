{
 "cells": [
  {
   "cell_type": "code",
   "execution_count": 5,
   "metadata": {},
   "outputs": [],
   "source": [
    "from pyod.models.iforest import IForest\n",
    "from sklearn.utils import shuffle\n",
    "from pysad.evaluation import AUROCMetric\n",
    "from pysad.models.integrations import ReferenceWindowModel\n",
    "from pysad.utils import ArrayStreamer\n",
    "from pysad.utils import Data\n",
    "from tqdm import tqdm\n",
    "import numpy as np\n",
    "import pandas as pd"
   ]
  },
  {
   "cell_type": "code",
   "execution_count": 13,
   "metadata": {},
   "outputs": [],
   "source": [
    "data = pd.read_csv(\"Data/Edu_TS_2_Traffic.csv\", sep=\";\", parse_dates=True)\n",
    "data['Date'] = pd.to_datetime(data['Date'], format='%d.%m.%Y')\n",
    "data.sort_values(by='Date', inplace=True)\n",
    "iterator = ArrayStreamer(shuffle=False)"
   ]
  },
  {
   "cell_type": "code",
   "execution_count": 14,
   "metadata": {},
   "outputs": [],
   "source": [
    "data_X = data['Unique Visitors'].values.reshape(-1, 1)  # Reshape to ensure 2D array\n",
    "data_Y = None"
   ]
  },
  {
   "cell_type": "code",
   "execution_count": 15,
   "metadata": {},
   "outputs": [],
   "source": [
    "model = ReferenceWindowModel(model_cls=IForest, window_size=24, sliding_size=3, initial_window_X=data_X[:10])\n",
    "auroc = AUROCMetric()"
   ]
  },
  {
   "cell_type": "code",
   "execution_count": 16,
   "metadata": {},
   "outputs": [
    {
     "ename": "TypeError",
     "evalue": "'NoneType' object is not subscriptable",
     "output_type": "error",
     "traceback": [
      "\u001b[0;31m---------------------------------------------------------------------------\u001b[0m",
      "\u001b[0;31mTypeError\u001b[0m                                 Traceback (most recent call last)",
      "Cell \u001b[0;32mIn[16], line 1\u001b[0m\n\u001b[0;32m----> 1\u001b[0m \u001b[38;5;28;01mfor\u001b[39;00m X, y \u001b[38;5;129;01min\u001b[39;00m tqdm(iterator\u001b[38;5;241m.\u001b[39miter(data_X[\u001b[38;5;241m10\u001b[39m:], \u001b[43mdata_Y\u001b[49m\u001b[43m[\u001b[49m\u001b[38;5;241;43m10\u001b[39;49m\u001b[43m:\u001b[49m\u001b[43m]\u001b[49m)):\n\u001b[1;32m      3\u001b[0m     model\u001b[38;5;241m.\u001b[39mfit_partial(X)  \u001b[38;5;66;03m# Fit to the instance.\u001b[39;00m\n\u001b[1;32m      4\u001b[0m     score \u001b[38;5;241m=\u001b[39m model\u001b[38;5;241m.\u001b[39mscore_partial(X)  \u001b[38;5;66;03m# Score the instance.\u001b[39;00m\n",
      "\u001b[0;31mTypeError\u001b[0m: 'NoneType' object is not subscriptable"
     ]
    }
   ],
   "source": [
    "for X, y in tqdm(iterator.iter(data_X[10:], data_Y[10:])):\n",
    "\n",
    "    model.fit_partial(X)  # Fit to the instance.\n",
    "    score = model.score_partial(X)  # Score the instance.\n",
    "\n",
    "    auroc.update(y, score)  # Update the metric.\n",
    "\n",
    "# Output AUROC metric.\n",
    "print(\"AUROC: \", auroc.get())"
   ]
  }
 ],
 "metadata": {
  "kernelspec": {
   "display_name": ".venv",
   "language": "python",
   "name": "python3"
  },
  "language_info": {
   "codemirror_mode": {
    "name": "ipython",
    "version": 3
   },
   "file_extension": ".py",
   "mimetype": "text/x-python",
   "name": "python",
   "nbconvert_exporter": "python",
   "pygments_lexer": "ipython3",
   "version": "3.11.8"
  }
 },
 "nbformat": 4,
 "nbformat_minor": 2
}
